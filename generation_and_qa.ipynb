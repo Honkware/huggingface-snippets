{
  "cells": [
    {
      "cell_type": "markdown",
      "metadata": {
        "id": "view-in-github",
        "colab_type": "text"
      },
      "source": [
        "<a href=\"https://colab.research.google.com/github/Honkware/huggingface-snippets/blob/main/generation_and_qa.ipynb\" target=\"_parent\"><img src=\"https://colab.research.google.com/assets/colab-badge.svg\" alt=\"Open In Colab\"/></a>"
      ]
    },
    {
      "cell_type": "markdown",
      "metadata": {
        "id": "RStqL-WY2xxV"
      },
      "source": [
        "# Random Sentence Completion and Question Answering\n",
        "\n",
        "This notebook demonstrates how to complete masked parts of a sentence using a HF model and perform question answering on the completed sentence. The snippet randomly selects one prediction for each masked part, providing different outputs each time it is run."
      ],
      "id": "RStqL-WY2xxV"
    },
    {
      "cell_type": "code",
      "execution_count": null,
      "metadata": {
        "id": "EZSUUOBV2xxX"
      },
      "outputs": [],
      "source": [
        "!pip install transformers"
      ],
      "id": "EZSUUOBV2xxX"
    },
    {
      "cell_type": "code",
      "execution_count": null,
      "metadata": {
        "id": "57mHK_SO2xxY"
      },
      "outputs": [],
      "source": [
        "import random\n",
        "from transformers import pipeline\n",
        "\n",
        "# Create a pipeline for sentence completion\n",
        "unmasker = pipeline(\"fill-mask\")\n",
        "\n",
        "# Complete the masked parts of the sentence\n",
        "context = unmasker(\"My name is <mask> and my favorite <mask> is a <mask>.\", top_k=4)\n",
        "\n",
        "# Randomly select one prediction for each masked part\n",
        "completed_sequence = [random.choice(prediction)['sequence'] for prediction in context]\n",
        "\n",
        "# Join the completed sentences into a single string\n",
        "completed_sequence_str = ' '.join(completed_sequence)\n",
        "\n",
        "# Create a pipeline for question answering\n",
        "question_answerer = pipeline(\"question-answering\")\n",
        "\n",
        "# Ask a question about the completed sentence\n",
        "question = \"What is my favorite thing?\"\n",
        "\n",
        "# Get the answer based on the completed sentence\n",
        "answer = question_answerer(question=question, context=completed_sequence_str)\n",
        "\n",
        "# Print the completed sentence\n",
        "print(\"Completed Sentence:\", completed_sequence_str)\n",
        "\n",
        "# Print the question and answer\n",
        "print(\"Question:\", question)\n",
        "print(\"Answer:\", answer['answer'])\n"
      ],
      "id": "57mHK_SO2xxY"
    }
  ],
  "metadata": {
    "kernelspec": {
      "display_name": "Python 3",
      "language": "python",
      "name": "python3"
    },
    "language_info": {
      "codemirror_mode": {
        "name": "ipython",
        "version": 3
      },
      "file_extension": ".py",
      "mimetype": "text/x-python",
      "name": "python",
      "nbconvert_exporter": "python",
      "pygments_lexer": "ipython3",
      "version": "3.10.0"
    },
    "colab": {
      "provenance": [],
      "include_colab_link": true
    }
  },
  "nbformat": 4,
  "nbformat_minor": 5
}